{
 "cells": [
  {
   "cell_type": "markdown",
   "metadata": {},
   "source": [
    "# Collaboration and Competition\n",
    "\n",
    "---\n",
    "\n",
    "You are welcome to use this coding environment to train your agent for the project.  Follow the instructions below to get started!\n",
    "\n",
    "### 1. Start the Environment\n",
    "\n",
    "Run the next code cell to install a few packages.  This line will take a few minutes to run!"
   ]
  },
  {
   "cell_type": "code",
   "execution_count": 1,
   "metadata": {},
   "outputs": [
    {
     "name": "stdout",
     "output_type": "stream",
     "text": [
      "\u001b[31mtensorflow 1.7.1 has requirement numpy>=1.13.3, but you'll have numpy 1.12.1 which is incompatible.\u001b[0m\r\n",
      "\u001b[31mipython 6.5.0 has requirement prompt-toolkit<2.0.0,>=1.0.15, but you'll have prompt-toolkit 3.0.8 which is incompatible.\u001b[0m\r\n"
     ]
    }
   ],
   "source": [
    "!pip -q install ./python"
   ]
  },
  {
   "cell_type": "markdown",
   "metadata": {},
   "source": [
    "The environment is already saved in the Workspace and can be accessed at the file path provided below. "
   ]
  },
  {
   "cell_type": "code",
   "execution_count": 2,
   "metadata": {},
   "outputs": [
    {
     "name": "stderr",
     "output_type": "stream",
     "text": [
      "INFO:unityagents:\n",
      "'Academy' started successfully!\n",
      "Unity Academy name: Academy\n",
      "        Number of Brains: 1\n",
      "        Number of External Brains : 1\n",
      "        Lesson number : 0\n",
      "        Reset Parameters :\n",
      "\t\t\n",
      "Unity brain name: TennisBrain\n",
      "        Number of Visual Observations (per agent): 0\n",
      "        Vector Observation space type: continuous\n",
      "        Vector Observation space size (per agent): 8\n",
      "        Number of stacked Vector Observation: 3\n",
      "        Vector Action space type: continuous\n",
      "        Vector Action space size (per agent): 2\n",
      "        Vector Action descriptions: , \n"
     ]
    }
   ],
   "source": [
    "from unityagents import UnityEnvironment\n",
    "import numpy as np\n",
    "\n",
    "env = UnityEnvironment(file_name=\"/data/Tennis_Linux_NoVis/Tennis\")"
   ]
  },
  {
   "cell_type": "markdown",
   "metadata": {},
   "source": [
    "Environments contain **_brains_** which are responsible for deciding the actions of their associated agents. Here we check for the first brain available, and set it as the default brain we will be controlling from Python."
   ]
  },
  {
   "cell_type": "code",
   "execution_count": 3,
   "metadata": {},
   "outputs": [],
   "source": [
    "# get the default brain\n",
    "brain_name = env.brain_names[0]\n",
    "brain = env.brains[brain_name]"
   ]
  },
  {
   "cell_type": "markdown",
   "metadata": {},
   "source": [
    "### 2. Examine the State and Action Spaces\n",
    "\n",
    "Run the code cell below to print some information about the environment."
   ]
  },
  {
   "cell_type": "code",
   "execution_count": 4,
   "metadata": {},
   "outputs": [
    {
     "name": "stdout",
     "output_type": "stream",
     "text": [
      "Number of agents: 2\n",
      "Size of each action: 2\n",
      "There are 2 agents. Each observes a state with length: 24\n",
      "The state for the first agent looks like: [ 0.          0.          0.          0.          0.          0.          0.\n",
      "  0.          0.          0.          0.          0.          0.          0.\n",
      "  0.          0.         -6.65278625 -1.5        -0.          0.\n",
      "  6.83172083  6.         -0.          0.        ]\n"
     ]
    }
   ],
   "source": [
    "# reset the environment\n",
    "env_info = env.reset(train_mode=True)[brain_name]\n",
    "\n",
    "# number of agents \n",
    "num_agents = len(env_info.agents)\n",
    "print('Number of agents:', num_agents)\n",
    "\n",
    "# size of each action\n",
    "action_size = brain.vector_action_space_size\n",
    "print('Size of each action:', action_size)\n",
    "\n",
    "# examine the state space \n",
    "states = env_info.vector_observations\n",
    "state_size = states.shape[1]\n",
    "print('There are {} agents. Each observes a state with length: {}'.format(states.shape[0], state_size))\n",
    "print('The state for the first agent looks like:', states[0])"
   ]
  },
  {
   "cell_type": "markdown",
   "metadata": {},
   "source": [
    "### 3. Take Random Actions in the Environment\n",
    "\n",
    "In the next code cell, you will learn how to use the Python API to control the agent and receive feedback from the environment.\n",
    "\n",
    "Note that **in this coding environment, you will not be able to watch the agents while they are training**, and you should set `train_mode=True` to restart the environment."
   ]
  },
  {
   "cell_type": "code",
   "execution_count": 5,
   "metadata": {},
   "outputs": [
    {
     "name": "stdout",
     "output_type": "stream",
     "text": [
      "Total score (averaged over agents) this episode: -0.004999999888241291\n",
      "Total score (averaged over agents) this episode: -0.004999999888241291\n",
      "Total score (averaged over agents) this episode: -0.004999999888241291\n",
      "Total score (averaged over agents) this episode: -0.004999999888241291\n",
      "Total score (averaged over agents) this episode: -0.004999999888241291\n"
     ]
    }
   ],
   "source": [
    "for i in range(5):                                         # play game for 5 episodes\n",
    "    env_info = env.reset(train_mode=False)[brain_name]     # reset the environment    \n",
    "    states = env_info.vector_observations                  # get the current state (for each agent)\n",
    "    scores = np.zeros(num_agents)                          # initialize the score (for each agent)\n",
    "    while True:\n",
    "        actions = np.random.randn(num_agents, action_size) # select an action (for each agent)\n",
    "        actions = np.clip(actions, -1, 1)                  # all actions between -1 and 1\n",
    "        env_info = env.step(actions)[brain_name]           # send all actions to tne environment\n",
    "        next_states = env_info.vector_observations         # get next state (for each agent)\n",
    "        rewards = env_info.rewards                         # get reward (for each agent)\n",
    "        dones = env_info.local_done                        # see if episode finished\n",
    "        scores += env_info.rewards                         # update the score (for each agent)\n",
    "        states = next_states                               # roll over states to next time step\n",
    "        if np.any(dones):                                  # exit loop if episode finished\n",
    "            break\n",
    "    print('Total score (averaged over agents) this episode: {}'.format(np.mean(scores)))"
   ]
  },
  {
   "cell_type": "markdown",
   "metadata": {},
   "source": [
    "### 4. It's Your Turn!\n",
    "\n",
    "Now it's your turn to train your own agent to solve the environment!  A few **important notes**:\n",
    "- When training the environment, set `train_mode=True`, so that the line for resetting the environment looks like the following:\n",
    "```python\n",
    "env_info = env.reset(train_mode=True)[brain_name]\n",
    "```\n",
    "- To structure your work, you're welcome to work directly in this Jupyter notebook, or you might like to start over with a new file!  You can see the list of files in the workspace by clicking on **_Jupyter_** in the top left corner of the notebook.\n",
    "- In this coding environment, you will not be able to watch the agents while they are training.  However, **_after training the agents_**, you can download the saved model weights to watch the agents on your own machine! "
   ]
  },
  {
   "cell_type": "markdown",
   "metadata": {},
   "source": [
    "### 5. Building the MADDPG model\n",
    "First we specifiy our hyper-parameters that we will use in this project. \n",
    "Then we build the neural networks that will act as the actor and critic models"
   ]
  },
  {
   "cell_type": "code",
   "execution_count": 6,
   "metadata": {},
   "outputs": [],
   "source": [
    "import numpy as np\n",
    "import random\n",
    "import copy\n",
    "from collections import namedtuple, deque\n",
    "\n",
    "import torch\n",
    "import torch.nn as nn\n",
    "import torch.nn.functional as F\n",
    "import torch.optim as optim\n",
    "from torch.nn.utils import clip_grad_norm_\n",
    "\n",
    "# hyper-parameter definitions:\n",
    "HIDDEN_LAYERS = [400, 400] # Hidden layer sizes of the actor and critic networks\n",
    "\n",
    "LR_A = 1e-4              # learning rate for the actor\n",
    "LR_C = 1e-4              # learning rate for the critic\n",
    "DISCOUNT_RATE = 0.99     # discount factor\n",
    "TAU = 1e-3               # soft update factor\n",
    "BUFFER_SIZE = int(1e6)   # buffer size for replay buffer\n",
    "BATCH_SIZE = 128         # batch size\n",
    "WEIGHT_DECAY = 0.0       # L2 weight decay\n",
    "NOISE_INITIAL = 1.0      # Initial noise factor\n",
    "NOISE_DECAY = 0.999999   # Noise factor\n",
    "NOISE_MIN = 0.005        # Minimum noise factor\n",
    "T_UPDATE = 10            # Number of timesteps between updating the target network\n",
    "NUM_UPDATES = 10         # Amount of times to update the network every T_UPDATE timesteps\n",
    "\n",
    "\n",
    "EPS_MAX = 4000           # Number of max episodes to train to TARGET_MEAN_SCORE\n",
    "T_MAX = 1000             # Number of max timesteps per episode\n",
    "TARGET_MEAN_SCORE = 0.65 # target score for the enviroment for 'success'\n",
    "\n",
    "device = torch.device(\"cuda:0\" if torch.cuda.is_available() else \"cpu\")"
   ]
  },
  {
   "cell_type": "markdown",
   "metadata": {},
   "source": [
    "We specify the actor and critic networks"
   ]
  },
  {
   "cell_type": "code",
   "execution_count": 7,
   "metadata": {},
   "outputs": [],
   "source": [
    "def hidden_init(layer):\n",
    "    fan_in = layer.weight.data.size()[0]\n",
    "    lim = 1. / np.sqrt(fan_in)\n",
    "    return (-lim, lim)\n",
    "\n",
    "class Actor(nn.Module):\n",
    "    \"\"\" Actor(policy) model \"\"\"\n",
    "    def __init__(self, state_size, action_size, seed, layers):\n",
    "        \"\"\"Initialize parameters for model\n",
    "        Parameters:\n",
    "            state_size (int): dimensions of the state space\n",
    "            action_size (int): dimensions of the action space\n",
    "            seed (int): random seed\n",
    "            layers (int list): size of the hidden layers\n",
    "        \"\"\"\n",
    "        super(Actor, self).__init__()\n",
    "        torch.seed = torch.manual_seed(seed)\n",
    "        \n",
    "        self.bns = nn.ModuleList([nn.BatchNorm1d(t) for t in layers])\n",
    "        \n",
    "        layers = [state_size] + layers + [action_size]\n",
    "        self.layers = nn.ModuleList([nn.Linear(fst, snd) for (fst, snd) in zip(layers[:-1], layers[1:])])\n",
    "        \n",
    "        self.reset_parameters()\n",
    "        \n",
    "    def reset_parameters(self):\n",
    "        \"\"\" Set initial weights \"\"\"\n",
    "        for layer in self.layers[:-1]:\n",
    "            layer.weight.data.uniform_(*hidden_init(layer))\n",
    "        self.layers[-1].weight.data.uniform_(-3e-3, 3e-3)\n",
    "    \n",
    "    def forward(self, state):\n",
    "        \"\"\"\n",
    "        Builds an actor(policy) network that maps state to actions\n",
    "        \"\"\"\n",
    "        x = self.layers[0](state)\n",
    "        x = self.bns[0](x)\n",
    "        x = F.relu(x)\n",
    "        for (layer, norm) in zip(self.layers[1:-1], self.bns[1:]):\n",
    "        #for layer in self.layers[1:-1]:\n",
    "            x = layer(x)\n",
    "            x = norm(x)\n",
    "            x = F.relu(x)\n",
    "        return F.tanh(self.layers[-1](x))\n",
    "    \n",
    "class Critic(nn.Module):\n",
    "    \"\"\" Critic(value) network \"\"\"\n",
    "    def __init__(self, state_size, action_size, seed, layers):\n",
    "        \"\"\"Initialize parameters for model\n",
    "        Parameter:\n",
    "            state_size (int): dimensions of the state space\n",
    "            action_size (int): dimensions of the action space\n",
    "            seed (int): random seed\n",
    "            layers (int list): size of the hidden layers\n",
    "        \"\"\"\n",
    "        super(Critic, self).__init__()\n",
    "        self.seed = torch.manual_seed(seed)\n",
    "        \n",
    "        # ensure that we have atleast 1 hidden layer for action to come after state in the network\n",
    "        assert len(layers) >= 1\n",
    "        \n",
    "        self.bns = nn.ModuleList([nn.BatchNorm1d(t) for t in layers])\n",
    "        \n",
    "        self.layers = nn.ModuleList([nn.Linear(state_size, layers[0])])\n",
    "        layers = layers + [1]\n",
    "        layers[0] += action_size\n",
    "        self.layers.extend([nn.Linear(fst, snd) for (fst, snd) in zip(layers[:-1], layers[1:])])\n",
    "        \n",
    "        self.reset_parameters()\n",
    "        \n",
    "    def reset_parameters(self):\n",
    "        \"\"\" Set initial weights \"\"\"\n",
    "        for layer in self.layers[:-1]:\n",
    "            layer.weight.data.uniform_(*hidden_init(layer))\n",
    "        self.layers[-1].weight.data.uniform_(-3e-3, 3e-3)\n",
    "        \n",
    "    def forward(self, state, action):\n",
    "        \"\"\"\n",
    "        Builds an critic(value) network that maps state and actions to their value\n",
    "        \"\"\"\n",
    "        x = self.layers[0](state)\n",
    "        x = self.bns[0](x)\n",
    "        x = F.relu(x)\n",
    "        # we concat here to attach the actions to the output of the first hidden layer\n",
    "        x = torch.cat((x, action), dim=1)\n",
    "        for (layer, norm) in zip(self.layers[1:-1], self.bns[1:]):\n",
    "            x = layer(x)\n",
    "            x = norm(x)\n",
    "            x = F.relu(x)\n",
    "        return self.layers[-1](x)"
   ]
  },
  {
   "cell_type": "markdown",
   "metadata": {},
   "source": [
    "Defining the modified DDPG agent to work with MADDPG. Specifically, we include noise and a replay buffer"
   ]
  },
  {
   "cell_type": "code",
   "execution_count": 8,
   "metadata": {},
   "outputs": [],
   "source": [
    "class OUNoise:\n",
    "    \"\"\"Ornstein-Uhlenbeck process.\"\"\"\n",
    "\n",
    "    def __init__(self, size, seed, mu=0., theta=0.15, sigma=0.2):\n",
    "        \"\"\"Initialize parameters and noise process.\"\"\"\n",
    "        self.size = size\n",
    "        self.mu = mu * np.ones(self.size)\n",
    "        self.theta = theta\n",
    "        self.sigma = sigma\n",
    "        self.seed = random.seed(seed)\n",
    "        self.reset()\n",
    "\n",
    "    def reset(self):\n",
    "        \"\"\"Reset the internal state (= noise) to mean (mu).\"\"\"\n",
    "        self.state = copy.copy(self.mu)\n",
    "\n",
    "    def sample(self):\n",
    "        \"\"\"Update internal state and return it as a noise sample.\"\"\"\n",
    "        x = self.state\n",
    "        dx = self.theta * (self.mu - x) + self.sigma * np.random.standard_normal(self.size)\n",
    "        self.state = x + dx\n",
    "        return self.state"
   ]
  },
  {
   "cell_type": "markdown",
   "metadata": {},
   "source": [
    "Define the replay buffer"
   ]
  },
  {
   "cell_type": "code",
   "execution_count": 9,
   "metadata": {},
   "outputs": [],
   "source": [
    "class ReplayBuffer:\n",
    "    \"\"\"Fixed-size buffer to store experience tuples.\"\"\"\n",
    "\n",
    "    def __init__(self, action_size, buffer_size, batch_size, seed):\n",
    "        \"\"\"Initialize a ReplayBuffer object.\n",
    "        Params\n",
    "        ======\n",
    "            buffer_size (int): maximum size of buffer\n",
    "            batch_size (int): size of each training batch\n",
    "        \"\"\"\n",
    "        self.action_size = action_size\n",
    "        self.memory = deque(maxlen=buffer_size)  # internal memory (deque)\n",
    "        self.batch_size = batch_size\n",
    "        self.experience = namedtuple(\"Experience\", field_names=[\"state\", \"action\", \"reward\", \"next_state\", \"done\"])\n",
    "        self.seed = random.seed(seed)\n",
    "    \n",
    "    def add(self, state, action, reward, next_state, done):\n",
    "        \"\"\"Add a new experience to memory.\"\"\"\n",
    "        e = self.experience(state, action, reward, next_state, done)\n",
    "        self.memory.append(e)\n",
    "    \n",
    "    def sample(self):\n",
    "        \"\"\"Randomly sample a batch of experiences from memory.\"\"\"\n",
    "        experiences = random.sample(self.memory, k=self.batch_size)\n",
    "        \n",
    "        states = torch.from_numpy(np.vstack([e.state for e in experiences if e is not None])).float().to(device)\n",
    "        actions = torch.from_numpy(np.vstack([e.action for e in experiences if e is not None])).float().to(device)\n",
    "        rewards = torch.from_numpy(np.vstack([e.reward for e in experiences if e is not None])).float().to(device)\n",
    "        next_states = torch.from_numpy(np.vstack([e.next_state for e in experiences if e is not None])).float().to(device)\n",
    "        dones = torch.from_numpy(np.vstack([e.done for e in experiences if e is not None]).astype(np.uint8)).float().to(device)\n",
    "\n",
    "\n",
    "        return (states, actions, rewards, next_states, dones)\n",
    "\n",
    "    def __len__(self):\n",
    "        \"\"\"Return the current size of internal memory.\"\"\"\n",
    "        return len(self.memory)"
   ]
  },
  {
   "cell_type": "markdown",
   "metadata": {},
   "source": [
    "Defining the DDPG agent"
   ]
  },
  {
   "cell_type": "code",
   "execution_count": 10,
   "metadata": {},
   "outputs": [],
   "source": [
    "class DDPG_Agent():\n",
    "    \"\"\"Interacts with and learns from the enviroment\"\"\"\n",
    "    \n",
    "    def __init__(self, state_size, action_size, random_seed):\n",
    "        \"\"\"Initialize an agent\n",
    "        Parameters:\n",
    "            state_size (int): dimensions of state space\n",
    "            action_size (int): dimension of action space\n",
    "            random_seed (int): random seed\n",
    "        \"\"\"\n",
    "        self.state_size = state_size\n",
    "        self.action_size = action_size\n",
    "        self.seed = random.seed(random_seed)\n",
    "        \n",
    "        # Actor networks with local and target\n",
    "        self.actor_local = Actor(state_size, action_size, random_seed, HIDDEN_LAYERS).to(device)\n",
    "        self.actor_target = Actor(state_size, action_size, random_seed, HIDDEN_LAYERS).to(device)\n",
    "        self.actor_optim = optim.Adam(self.actor_local.parameters(), lr=LR_A)\n",
    "        \n",
    "        # Critic networks with local and target\n",
    "        self.critic_local = Critic(state_size, action_size, random_seed, HIDDEN_LAYERS).to(device)\n",
    "        self.critic_target = Critic(state_size, action_size, random_seed, HIDDEN_LAYERS).to(device)\n",
    "        self.critic_optim = optim.Adam(self.critic_local.parameters(), lr=LR_C)\n",
    "        \n",
    "        # Noise process\n",
    "        self.noise = OUNoise(action_size, random_seed)\n",
    "        self.noise_factor = NOISE_INITIAL\n",
    "        \n",
    "        # Replay memory\n",
    "        self.memory = ReplayBuffer(action_size, BUFFER_SIZE, BATCH_SIZE, random_seed)\n",
    "        \n",
    "    def step(self, timestep, state, action, reward, next_state, done):\n",
    "        \"\"\"Save experiences in replay to train on uncorrelated\n",
    "        Parameters:\n",
    "            timestep (int): current timestep in training\n",
    "            state : state of the enviroment\n",
    "            action : action of the agent for the state\n",
    "            reward : reward for the agent under the state and action\n",
    "            next_state : state of the enviroment after action\n",
    "            done : whether the agent completed the enviroment\n",
    "        \"\"\"\n",
    "        # Save experience / reward\n",
    "        self.memory.add(state, action, reward, next_state, done)\n",
    "        \n",
    "        # Learn if enough samples are available in memory\n",
    "        if len(self.memory) > BATCH_SIZE and timestep % T_UPDATE == 0:\n",
    "            for _ in range(NUM_UPDATES):\n",
    "                experiences = self.memory.sample()\n",
    "                self.learn(experiences, DISCOUNT_RATE)\n",
    "            \n",
    "    def act(self, state, add_noise=True):\n",
    "        \"\"\"Returns actions for given state as per current policy\n",
    "        Parameters:\n",
    "            state : current state of the enviroment\n",
    "            add_noise (bool): whether to add Ornstein-Uhlenbeck process noise to training\n",
    "        \"\"\"\n",
    "        state = torch.from_numpy(state).float().to(device)\n",
    "        self.actor_local.eval()\n",
    "        with torch.no_grad():\n",
    "            action = self.actor_local(state).cpu().data.numpy()\n",
    "        self.actor_local.train()\n",
    "        \n",
    "        if add_noise:\n",
    "            action += self.noise.sample() * self.noise_factor\n",
    "            #self.noise_factor = max(self.noise_factor * NOISE_DECAY, NOISE_MIN)\n",
    "        return np.clip(action, -1, 1)\n",
    "    \n",
    "    def reset(self):\n",
    "        \"\"\" Reset learning behavior episodically \"\"\"\n",
    "        self.noise.reset()\n",
    "        \n",
    "    def learn(self, experiences, gamma):\n",
    "        \"\"\"Update policy and value parameters using given batch of experience tuples:\n",
    "        Q_target = r + gamma * critic_target(next_state, actor_target(next_state))\n",
    "        where:\n",
    "            actor_target(state) -> action\n",
    "            critic_target(state, action) -> Q-value\n",
    "        Parameters:\n",
    "            experiences (Tuple[torch.Tensor]): tuple of (s, a, r, s', done) tuples\n",
    "            gamma (float): discount rate\n",
    "        \"\"\"\n",
    "        states, actions, rewards, next_states, dones = experiences\n",
    "        \n",
    "        # Update critic\n",
    "        # Get predicted next-(state and actions) and Q-values from target models\n",
    "        actions_next = self.actor_target(next_states)\n",
    "        Q_targets_next = self.critic_target(next_states, actions_next)\n",
    "        # Compute Q-targets for current states (y_i)\n",
    "        Q_targets = rewards + (gamma * Q_targets_next * (1 - dones))\n",
    "        # Compute critic loss\n",
    "        Q_expected = self.critic_local(states, actions)\n",
    "        critic_loss = F.mse_loss(Q_expected, Q_targets)\n",
    "        # Minimize the loss\n",
    "        self.critic_optim.zero_grad()\n",
    "        critic_loss.backward()\n",
    "        # prevent gradient explosion by gradient clipping\n",
    "        clip_grad_norm_(self.critic_local.parameters(), 1)\n",
    "        self.critic_optim.step()\n",
    "        \n",
    "        # Update Actor\n",
    "        # Compute actor loss\n",
    "        actions_pred = self.actor_local(states)\n",
    "        actor_loss = -self.critic_local(states, actions_pred).mean()\n",
    "        # Minimize the loss\n",
    "        self.actor_optim.zero_grad()\n",
    "        actor_loss.backward()\n",
    "        self.actor_optim.step()\n",
    "        \n",
    "        # Update target network\n",
    "        self.soft_update(self.critic_local, self.critic_target, TAU)\n",
    "        self.soft_update(self.actor_local, self.actor_target, TAU)\n",
    "        \n",
    "        # Update noise\n",
    "        self.noise_factor = max(self.noise_factor * NOISE_DECAY, NOISE_MIN)\n",
    "        self.noise.reset()\n",
    "        \n",
    "    def soft_update(self, local_model, target_model, tau):\n",
    "        \"\"\"Soft update target model to local model by tau\n",
    "        theta_target = tau * theta_local + (1 - tau) * theta_target\n",
    "        Parameters:\n",
    "            local_model : PyTorch model (weights will be copied from)\n",
    "            target_model : PyTorch model (weights will be copied to)\n",
    "            tau (float): interpolation factor\n",
    "        \"\"\"\n",
    "        for target_param, local_param in zip(target_model.parameters(), local_model.parameters()):\n",
    "            target_param.data.copy_(tau*local_param.data + (1-tau)*target_param.data)\n",
    "    \n",
    "    def model_eval(self):\n",
    "        \"\"\"Set the agent to evaluation\"\"\"\n",
    "        self.actor_local.eval()\n",
    "        self.critic_local.eval()\n",
    "        \n",
    "    def model_train(self):\n",
    "        \"\"\"Set the agent to training\"\"\"\n",
    "        self.actor_local.train()\n",
    "        self.critic_local.train()\n",
    "    \n",
    "    def save_model(self, agent_id):\n",
    "        \"\"\"Save the model parameters\n",
    "        Parameters:\n",
    "            agent_id (int): id for current agent\n",
    "        \"\"\"\n",
    "        torch.save(self.actor_local.state_dict(), 'checkpoint_actor{}.pth'.format(i))\n",
    "        torch.save(self.critic_local.state_dict(), 'checkpoint_critic{}.pth'.format(i))"
   ]
  },
  {
   "cell_type": "markdown",
   "metadata": {},
   "source": [
    "We train our networks using this trainer"
   ]
  },
  {
   "cell_type": "code",
   "execution_count": 11,
   "metadata": {},
   "outputs": [],
   "source": [
    "def train(agents):\n",
    "    \"\"\" Training an MADDPG model \n",
    "    Parameters:\n",
    "        agents (Agents): Collection of agents for MADDPG\n",
    "    \"\"\"\n",
    "    # setup record of mean scores per episode keeping complete record\n",
    "    scores_total = []\n",
    "    scores_ma = deque(maxlen=100)\n",
    "    scores_ma_record = []\n",
    "    # setup time_stamp to periodically update target models\n",
    "    time_stamp = 0\n",
    "    # setup model to train\n",
    "    [agent.model_train() for agent in agents]\n",
    "    \n",
    "    # loop over all episodes or until having learned sufficiently\n",
    "    for i_eps in range(1, EPS_MAX + 1):\n",
    "        # get enviroment info\n",
    "        env_info = env.reset(train_mode=True)[brain_name]\n",
    "        states = env_info.vector_observations\n",
    "        states = np.reshape(states, (1, -1))\n",
    "        # reset internal learning behavior episodically\n",
    "        [agent.reset() for agent in agents]\n",
    "        # keep record of the score of each agent over all timesteps\n",
    "        scores = np.zeros(num_agents)\n",
    "        \n",
    "        # have the agents act and train in the enviroment until max timesteps per episode of any agent finishes\n",
    "        t = 1\n",
    "        for t in range(1, T_MAX + 1):\n",
    "            # get actions from agents for current state\n",
    "            actions = np.array([agent.act(states, True) for agent in agents]).squeeze()\n",
    "            # get current enviroment based on current actions\n",
    "            env_info = env.step(actions)[brain_name]\n",
    "            # get rewards, next_states, and dones of all agents\n",
    "            rewards = env_info.rewards\n",
    "            next_states = env_info.vector_observations\n",
    "            next_states = np.reshape(next_states, (1, -1))\n",
    "            dones = env_info.local_done\n",
    "            \n",
    "            # send all relevant info to agents to train model\n",
    "            for i, agent in enumerate(agents):\n",
    "                agent.step(time_stamp, states, actions[i], rewards[i], next_states, dones[i])\n",
    "                \n",
    "            # update current states and scores\n",
    "            states = next_states\n",
    "            scores += rewards\n",
    "            \n",
    "            # update time_stamp\n",
    "            time_stamp += 1\n",
    "            # if any agent is done, exit current episode\n",
    "            if np.any(dones):\n",
    "                break\n",
    "                \n",
    "        # update history of episodic scores\n",
    "        #print(\"scores: \", scores)\n",
    "        scores_max = np.amax(scores)\n",
    "        #print(\"scores_max: \", scores_max)\n",
    "        scores_total.append(scores_max)\n",
    "        scores_ma.append(scores_max)\n",
    "        scores_ma_max = np.mean(scores_ma)\n",
    "        scores_ma_record.append(scores_ma_max)\n",
    "        \n",
    "        print('\\rEpisode {}\\tAverage Score: {:.4f}\\tAverage 100 moving average Score: {:.4f}'.format(i_eps, scores_max, scores_ma_max), end=\"\")\n",
    "        if i_eps % 100 == 0:\n",
    "            print('\\rEpisode {}\\tAverage Score: {:.4f}\\tAverage 100 moving average Score: {:.4f}'.format(i_eps, scores_max, scores_ma_max))\n",
    "        if scores_ma_max >= TARGET_MEAN_SCORE:\n",
    "            print('\\nEnvironment solved in {:d} episodes!\\tAverage 100 moving average Score: {:.4f}'.format(i_eps, scores_ma_max))\n",
    "            [agent.save_model(i) for i, agent in enumerate(agents)]\n",
    "            break\n",
    "    return scores_total, scores_ma_record"
   ]
  },
  {
   "cell_type": "markdown",
   "metadata": {},
   "source": [
    "Creating the MADDPG agents and training them"
   ]
  },
  {
   "cell_type": "code",
   "execution_count": 12,
   "metadata": {},
   "outputs": [
    {
     "name": "stdout",
     "output_type": "stream",
     "text": [
      "Episode 100\tAverage Score: 0.0000\tAverage 100 moving average Score: 0.0069\n",
      "Episode 200\tAverage Score: 0.0000\tAverage 100 moving average Score: 0.0132\n",
      "Episode 300\tAverage Score: 0.0000\tAverage 100 moving average Score: 0.0211\n",
      "Episode 400\tAverage Score: 0.0000\tAverage 100 moving average Score: 0.0382\n",
      "Episode 500\tAverage Score: 0.1000\tAverage 100 moving average Score: 0.0355\n",
      "Episode 600\tAverage Score: 0.0000\tAverage 100 moving average Score: 0.0244\n",
      "Episode 700\tAverage Score: 0.0000\tAverage 100 moving average Score: 0.0308\n",
      "Episode 800\tAverage Score: 0.0000\tAverage 100 moving average Score: 0.0470\n",
      "Episode 900\tAverage Score: 0.1000\tAverage 100 moving average Score: 0.0572\n",
      "Episode 1000\tAverage Score: 0.1000\tAverage 100 moving average Score: 0.0949\n",
      "Episode 1100\tAverage Score: 0.1000\tAverage 100 moving average Score: 0.1318\n",
      "Episode 1200\tAverage Score: 0.4000\tAverage 100 moving average Score: 0.1460\n",
      "Episode 1300\tAverage Score: 0.1000\tAverage 100 moving average Score: 0.1909\n",
      "Episode 1400\tAverage Score: 0.3000\tAverage 100 moving average Score: 0.2381\n",
      "Episode 1500\tAverage Score: 0.6000\tAverage 100 moving average Score: 0.2730\n",
      "Episode 1600\tAverage Score: 0.8000\tAverage 100 moving average Score: 0.3827\n",
      "Episode 1700\tAverage Score: 0.2000\tAverage 100 moving average Score: 0.3806\n",
      "Episode 1800\tAverage Score: 0.6000\tAverage 100 moving average Score: 0.3613\n",
      "Episode 1900\tAverage Score: 0.2000\tAverage 100 moving average Score: 0.3796\n",
      "Episode 2000\tAverage Score: 0.2000\tAverage 100 moving average Score: 0.4245\n",
      "Episode 2100\tAverage Score: 0.3000\tAverage 100 moving average Score: 0.4725\n",
      "Episode 2200\tAverage Score: 0.7000\tAverage 100 moving average Score: 0.4432\n",
      "Episode 2300\tAverage Score: 0.4000\tAverage 100 moving average Score: 0.5564\n",
      "Episode 2400\tAverage Score: 0.3000\tAverage 100 moving average Score: 0.6047\n",
      "Episode 2500\tAverage Score: 2.6000\tAverage 100 moving average Score: 0.6015\n",
      "Episode 2541\tAverage Score: 1.2000\tAverage 100 moving average Score: 0.6568\n",
      "Environment solved in 2541 episodes!\tAverage 100 moving average Score: 0.6568\n"
     ]
    }
   ],
   "source": [
    "agents = [DDPG_Agent(state_size * num_agents, action_size, 1) for _ in range(num_agents)]\n",
    "scores, scores_ma = train(agents)"
   ]
  },
  {
   "cell_type": "markdown",
   "metadata": {},
   "source": [
    "Displaying a graph of the training process"
   ]
  },
  {
   "cell_type": "code",
   "execution_count": 13,
   "metadata": {},
   "outputs": [
    {
     "data": {
      "image/png": "[encoded data removed]",
      "text/plain": [
       "<matplotlib.figure.Figure at 0x7f0c6f67a1d0>"
      ]
     },
     "metadata": {
      "needs_background": "light"
     },
     "output_type": "display_data"
    }
   ],
   "source": [
    "import matplotlib.pyplot as plt\n",
    "%matplotlib inline\n",
    "\n",
    "# plot the scores\n",
    "fig = plt.figure()\n",
    "ax = fig.add_subplot(111)\n",
    "plt.plot(np.arange(1, len(scores)+1), scores, label='Max')\n",
    "plt.plot(np.arange(1, len(scores_ma)+1), scores_ma, label='100 episode M.A.') \n",
    "plt.axhline(y=0.5, color='r', label='Target score')\n",
    "plt.ylabel('Score')\n",
    "plt.xlabel('Episode #')\n",
    "plt.legend()\n",
    "\n",
    "plt.show()"
   ]
  },
  {
   "cell_type": "markdown",
   "metadata": {},
   "source": [
    "Testing the trained agent"
   ]
  },
  {
   "cell_type": "code",
   "execution_count": 14,
   "metadata": {},
   "outputs": [
    {
     "name": "stdout",
     "output_type": "stream",
     "text": [
      "Total score (averaged over agents) this episode: 2.600000038743019\n",
      "Total score (averaged over agents) this episode: 2.600000038743019\n",
      "Total score (averaged over agents) this episode: 1.095000016503036\n",
      "Total score (averaged over agents) this episode: 2.600000038743019\n",
      "Total score (averaged over agents) this episode: -0.004999999888241291\n"
     ]
    }
   ],
   "source": [
    "for i in range(5):                                         # play game for 5 episodes\n",
    "    env_info = env.reset(train_mode=False)[brain_name]     # reset the environment\n",
    "    [agent.model_eval() for agent in agents]               # put the model in evaluation mode\n",
    "    states = env_info.vector_observations                  # get the current state (for each agent)\n",
    "    scores = np.zeros(num_agents)                          # initialize the score (for each agent)\n",
    "    while True:\n",
    "        states = np.reshape(states, (1, -1))\n",
    "        actions = np.array([agent.act(states, False) for agent in agents]).squeeze() # select an action (for each agent)\n",
    "        env_info = env.step(actions)[brain_name]           # send all actions to tne environment\n",
    "        next_states = env_info.vector_observations         # get next state (for each agent)\n",
    "        next_states = np.reshape(next_states, (1, -1))\n",
    "        rewards = env_info.rewards                         # get reward (for each agent)\n",
    "        dones = env_info.local_done                        # see if episode finished\n",
    "        scores += env_info.rewards                         # update the score (for each agent)\n",
    "        states = next_states                               # roll over states to next time step\n",
    "        if np.any(dones):                                  # exit loop if episode finished\n",
    "            break\n",
    "    print('Total score (averaged over agents) this episode: {}'.format(np.mean(scores)))"
   ]
  },
  {
   "cell_type": "code",
   "execution_count": 15,
   "metadata": {},
   "outputs": [],
   "source": [
    "env.close()"
   ]
  },
  {
   "cell_type": "code",
   "execution_count": null,
   "metadata": {},
   "outputs": [],
   "source": []
  }
 ],
 "metadata": {
  "kernelspec": {
   "display_name": "Python 3",
   "language": "python",
   "name": "python3"
  },
  "language_info": {
   "codemirror_mode": {
    "name": "ipython",
    "version": 3
   },
   "file_extension": ".py",
   "mimetype": "text/x-python",
   "name": "python",
   "nbconvert_exporter": "python",
   "pygments_lexer": "ipython3",
   "version": "3.6.3"
  }
 },
 "nbformat": 4,
 "nbformat_minor": 2
}
